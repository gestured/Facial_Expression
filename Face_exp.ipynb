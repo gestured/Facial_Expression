{
 "cells": [
  {
   "cell_type": "code",
   "execution_count": 3,
   "metadata": {},
   "outputs": [],
   "source": [
    "import numpy as np\n",
    "import pandas as pd\n",
    "import matplotlib.pyplot as plt\n",
    "import seaborn as sns"
   ]
  },
  {
   "cell_type": "code",
   "execution_count": 4,
   "metadata": {},
   "outputs": [
    {
     "data": {
      "text/html": [
       "<div>\n",
       "<style scoped>\n",
       "    .dataframe tbody tr th:only-of-type {\n",
       "        vertical-align: middle;\n",
       "    }\n",
       "\n",
       "    .dataframe tbody tr th {\n",
       "        vertical-align: top;\n",
       "    }\n",
       "\n",
       "    .dataframe thead th {\n",
       "        text-align: right;\n",
       "    }\n",
       "</style>\n",
       "<table border=\"1\" class=\"dataframe\">\n",
       "  <thead>\n",
       "    <tr style=\"text-align: right;\">\n",
       "      <th></th>\n",
       "      <th>emotion</th>\n",
       "      <th>pixels</th>\n",
       "      <th>Usage</th>\n",
       "    </tr>\n",
       "  </thead>\n",
       "  <tbody>\n",
       "    <tr>\n",
       "      <th>0</th>\n",
       "      <td>0</td>\n",
       "      <td>70 80 82 72 58 58 60 63 54 58 60 48 89 115 121...</td>\n",
       "      <td>Training</td>\n",
       "    </tr>\n",
       "    <tr>\n",
       "      <th>1</th>\n",
       "      <td>0</td>\n",
       "      <td>151 150 147 155 148 133 111 140 170 174 182 15...</td>\n",
       "      <td>Training</td>\n",
       "    </tr>\n",
       "    <tr>\n",
       "      <th>2</th>\n",
       "      <td>2</td>\n",
       "      <td>231 212 156 164 174 138 161 173 182 200 106 38...</td>\n",
       "      <td>Training</td>\n",
       "    </tr>\n",
       "    <tr>\n",
       "      <th>3</th>\n",
       "      <td>4</td>\n",
       "      <td>24 32 36 30 32 23 19 20 30 41 21 22 32 34 21 1...</td>\n",
       "      <td>Training</td>\n",
       "    </tr>\n",
       "    <tr>\n",
       "      <th>4</th>\n",
       "      <td>6</td>\n",
       "      <td>4 0 0 0 0 0 0 0 0 0 0 0 3 15 23 28 48 50 58 84...</td>\n",
       "      <td>Training</td>\n",
       "    </tr>\n",
       "  </tbody>\n",
       "</table>\n",
       "</div>"
      ],
      "text/plain": [
       "   emotion                                             pixels     Usage\n",
       "0        0  70 80 82 72 58 58 60 63 54 58 60 48 89 115 121...  Training\n",
       "1        0  151 150 147 155 148 133 111 140 170 174 182 15...  Training\n",
       "2        2  231 212 156 164 174 138 161 173 182 200 106 38...  Training\n",
       "3        4  24 32 36 30 32 23 19 20 30 41 21 22 32 34 21 1...  Training\n",
       "4        6  4 0 0 0 0 0 0 0 0 0 0 0 3 15 23 28 48 50 58 84...  Training"
      ]
     },
     "execution_count": 4,
     "metadata": {},
     "output_type": "execute_result"
    }
   ],
   "source": [
    "df = pd.read_csv(\"fer2013/fer2013.csv\")\n",
    "df.head()"
   ]
  },
  {
   "cell_type": "code",
   "execution_count": 5,
   "metadata": {},
   "outputs": [
    {
     "data": {
      "text/plain": [
       "(35887, 3)"
      ]
     },
     "execution_count": 5,
     "metadata": {},
     "output_type": "execute_result"
    }
   ],
   "source": [
    "df.shape"
   ]
  },
  {
   "cell_type": "markdown",
   "metadata": {},
   "source": [
    "## Plotting Shapes"
   ]
  },
  {
   "cell_type": "code",
   "execution_count": 6,
   "metadata": {},
   "outputs": [
    {
     "data": {
      "text/plain": [
       "<AxesSubplot:xlabel='emotion', ylabel='count'>"
      ]
     },
     "execution_count": 6,
     "metadata": {},
     "output_type": "execute_result"
    },
    {
     "data": {
      "image/png": "[encoded data removed]",
      "text/plain": [
       "<Figure size 648x288 with 1 Axes>"
      ]
     },
     "metadata": {
      "needs_background": "light"
     },
     "output_type": "display_data"
    }
   ],
   "source": [
    "plt.figure(figsize = (9,4))\n",
    "sns.countplot(x='emotion' , data = df)"
   ]
  },
  {
   "cell_type": "code",
   "execution_count": 7,
   "metadata": {},
   "outputs": [
    {
     "data": {
      "text/plain": [
       "3    8989\n",
       "6    6198\n",
       "4    6077\n",
       "2    5121\n",
       "0    4953\n",
       "5    4002\n",
       "1     547\n",
       "Name: emotion, dtype: int64"
      ]
     },
     "execution_count": 7,
     "metadata": {},
     "output_type": "execute_result"
    }
   ],
   "source": [
    "df['emotion'].value_counts()"
   ]
  },
  {
   "cell_type": "markdown",
   "metadata": {},
   "source": [
    "Here we have\n",
    "#### 0 : Angry\n",
    "#### 1 : Disgust\n",
    "#### 2 : Fear\n",
    "#### 3 : Happy\n",
    "#### 4 : Sad\n",
    "#### 5 : Surprise\n",
    "#### 6 : Neutral"
   ]
  },
  {
   "cell_type": "code",
   "execution_count": 8,
   "metadata": {},
   "outputs": [
    {
     "data": {
      "text/plain": [
       "<AxesSubplot:xlabel='Usage', ylabel='count'>"
      ]
     },
     "execution_count": 8,
     "metadata": {},
     "output_type": "execute_result"
    },
    {
     "data": {
      "image/png": "[encoded data removed]",
      "text/plain": [
       "<Figure size 648x288 with 1 Axes>"
      ]
     },
     "metadata": {
      "needs_background": "light"
     },
     "output_type": "display_data"
    }
   ],
   "source": [
    "plt.figure(figsize=(9,4))\n",
    "sns.countplot(x = 'Usage' , data=df)"
   ]
  },
  {
   "cell_type": "markdown",
   "metadata": {},
   "source": [
    "## Preprocess"
   ]
  },
  {
   "cell_type": "code",
   "execution_count": 9,
   "metadata": {},
   "outputs": [],
   "source": [
    "import cv2\n",
    "image_size = (48,48)"
   ]
  },
  {
   "cell_type": "code",
   "execution_count": 10,
   "metadata": {},
   "outputs": [],
   "source": [
    "#Convert column element to list for each row\n",
    "pixels = df['pixels'].tolist()\n",
    "\n",
    "w , h = 48 , 48\n",
    "faces = []\n",
    "\n",
    "for pixel_seq in pixels:\n",
    "    face = [int(pixel) for pixel in pixel_seq.split(' ')]\n",
    "    \n",
    "    face = np.asarray(face).reshape(w,h)\n",
    "    \n",
    "    face = cv2.resize(face.astype('uint8') , image_size)\n",
    "    \n",
    "    faces.append(face.astype('float32'))\n",
    "    \n",
    "faces = np.asarray(faces)\n",
    "faces = np.expand_dims(faces , -1)\n",
    "\n",
    "emotions = pd.get_dummies(df['emotion']).to_numpy()"
   ]
  },
  {
   "cell_type": "code",
   "execution_count": 11,
   "metadata": {},
   "outputs": [
    {
     "name": "stdout",
     "output_type": "stream",
     "text": [
      "[[[231.]\n",
      "  [212.]\n",
      "  [156.]\n",
      "  ...\n",
      "  [ 44.]\n",
      "  [ 27.]\n",
      "  [ 16.]]\n",
      "\n",
      " [[229.]\n",
      "  [175.]\n",
      "  [148.]\n",
      "  ...\n",
      "  [ 27.]\n",
      "  [ 35.]\n",
      "  [ 27.]]\n",
      "\n",
      " [[214.]\n",
      "  [156.]\n",
      "  [157.]\n",
      "  ...\n",
      "  [ 28.]\n",
      "  [ 22.]\n",
      "  [ 28.]]\n",
      "\n",
      " ...\n",
      "\n",
      " [[241.]\n",
      "  [245.]\n",
      "  [250.]\n",
      "  ...\n",
      "  [ 57.]\n",
      "  [101.]\n",
      "  [146.]]\n",
      "\n",
      " [[246.]\n",
      "  [250.]\n",
      "  [252.]\n",
      "  ...\n",
      "  [ 78.]\n",
      "  [105.]\n",
      "  [162.]]\n",
      "\n",
      " [[250.]\n",
      "  [251.]\n",
      "  [250.]\n",
      "  ...\n",
      "  [ 88.]\n",
      "  [110.]\n",
      "  [152.]]]\n",
      "[0 0 1 0 0 0 0]\n"
     ]
    }
   ],
   "source": [
    "print(faces[2])\n",
    "print(emotions[2])"
   ]
  },
  {
   "cell_type": "code",
   "execution_count": 12,
   "metadata": {},
   "outputs": [
    {
     "data": {
      "text/plain": [
       "(35887, 48, 48, 1)"
      ]
     },
     "execution_count": 12,
     "metadata": {},
     "output_type": "execute_result"
    }
   ],
   "source": [
    "faces.shape"
   ]
  },
  {
   "cell_type": "code",
   "execution_count": 13,
   "metadata": {},
   "outputs": [
    {
     "data": {
      "text/plain": [
       "(35887, 7)"
      ]
     },
     "execution_count": 13,
     "metadata": {},
     "output_type": "execute_result"
    }
   ],
   "source": [
    "emotions.shape"
   ]
  },
  {
   "cell_type": "markdown",
   "metadata": {},
   "source": [
    "## SPliiting Dataset"
   ]
  },
  {
   "cell_type": "markdown",
   "metadata": {},
   "source": [
    "### Scalling data pixels b/w -1 to 1"
   ]
  },
  {
   "cell_type": "code",
   "execution_count": 14,
   "metadata": {},
   "outputs": [],
   "source": [
    "x = faces.astype('float32')\n",
    "x = x / 255.0\n",
    "\n",
    "x = x - 0.5\n",
    "\n",
    "x = x * 2.0"
   ]
  },
  {
   "cell_type": "code",
   "execution_count": 15,
   "metadata": {},
   "outputs": [
    {
     "data": {
      "text/plain": [
       "numpy.ndarray"
      ]
     },
     "execution_count": 15,
     "metadata": {},
     "output_type": "execute_result"
    }
   ],
   "source": [
    "type(x)"
   ]
  },
  {
   "cell_type": "code",
   "execution_count": 16,
   "metadata": {},
   "outputs": [
    {
     "data": {
      "image/png": "[encoded data removed]",
      "text/plain": [
       "<Figure size 432x288 with 1 Axes>"
      ]
     },
     "metadata": {
      "needs_background": "light"
     },
     "output_type": "display_data"
    }
   ],
   "source": [
    "plt.plot(x[15,8])\n",
    "plt.show()"
   ]
  },
  {
   "cell_type": "code",
   "execution_count": 17,
   "metadata": {},
   "outputs": [
    {
     "data": {
      "text/plain": [
       "-1.0"
      ]
     },
     "execution_count": 17,
     "metadata": {},
     "output_type": "execute_result"
    }
   ],
   "source": [
    "x.min()"
   ]
  },
  {
   "cell_type": "code",
   "execution_count": 18,
   "metadata": {},
   "outputs": [
    {
     "data": {
      "text/plain": [
       "1.0"
      ]
     },
     "execution_count": 18,
     "metadata": {},
     "output_type": "execute_result"
    }
   ],
   "source": [
    "x.max()"
   ]
  },
  {
   "cell_type": "markdown",
   "metadata": {},
   "source": [
    "### Splitting Train and validate"
   ]
  },
  {
   "cell_type": "code",
   "execution_count": 19,
   "metadata": {},
   "outputs": [],
   "source": [
    "num_samp , num_classes = emotions.shape"
   ]
  },
  {
   "cell_type": "code",
   "execution_count": 20,
   "metadata": {},
   "outputs": [],
   "source": [
    "num_samp = len(x)\n",
    "num_train_samp = int((1.0 - 0.2)*num_samp)\n",
    "\n",
    "train_x , train_y = x[:num_train_samp] , emotions[:num_train_samp]\n",
    "\n",
    "val_x , val_y = x[num_train_samp:] , emotions[num_train_samp:]\n",
    "\n",
    "train_data = (train_x , train_y)\n",
    "val_data = (val_x , val_y)"
   ]
  },
  {
   "cell_type": "code",
   "execution_count": 21,
   "metadata": {},
   "outputs": [
    {
     "name": "stdout",
     "output_type": "stream",
     "text": [
      "Training size (28709, 48, 48, 1)\n",
      "Training labels size (28709, 7)\n",
      "Validation pixels size (7178, 48, 48, 1)\n",
      "Validation label size (7178, 7)\n"
     ]
    }
   ],
   "source": [
    "print(\"Training size\" , train_x.shape)\n",
    "print(\"Training labels size\" , train_y.shape)\n",
    "print(\"Validation pixels size\" , val_x.shape)\n",
    "print(\"Validation label size\" , val_y.shape)"
   ]
  },
  {
   "cell_type": "markdown",
   "metadata": {},
   "source": [
    "## Defining Model"
   ]
  },
  {
   "cell_type": "code",
   "execution_count": 22,
   "metadata": {},
   "outputs": [],
   "source": [
    "from tensorflow.keras.layers import Activation , Convolution2D , Dropout , Conv2D\n",
    "from tensorflow.keras.layers import AveragePooling2D , BatchNormalization , MaxPooling2D , GlobalAveragePooling2D\n",
    "from tensorflow.keras.models import Sequential , Model\n",
    "from tensorflow.keras.layers import Flatten , Input , SeparableConv2D\n",
    "from tensorflow.keras.regularizers import l2"
   ]
  },
  {
   "cell_type": "code",
   "execution_count": 23,
   "metadata": {},
   "outputs": [],
   "source": [
    "input_shape = (48 , 48  ,1)\n",
    "num_classes = 7"
   ]
  },
  {
   "cell_type": "code",
   "execution_count": 24,
   "metadata": {},
   "outputs": [],
   "source": [
    "model = Sequential()\n",
    "\n",
    "model.add(Convolution2D(filters = 16 , kernel_size = (7,7) , padding = 'same' , name = 'image_array' , input_shape = input_shape))\n",
    "model.add(BatchNormalization())\n",
    "model.add(Convolution2D(filters = 16 , kernel_size = (7,7) , padding = 'same'))\n",
    "model.add(BatchNormalization())\n",
    "model.add(Activation('relu'))\n",
    "model.add(AveragePooling2D(pool_size = (2,2) , padding = 'same'))\n",
    "model.add(Dropout(0.5))\n",
    "\n",
    "model.add(Convolution2D(filters=32, kernel_size=(5, 5), padding='same'))\n",
    "model.add(BatchNormalization())\n",
    "model.add(Convolution2D(filters=32, kernel_size=(5, 5), padding='same'))\n",
    "model.add(BatchNormalization())\n",
    "model.add(Activation('relu'))\n",
    "model.add(AveragePooling2D(pool_size=(2, 2), padding='same'))\n",
    "model.add(Dropout(0.5))\n",
    "\n",
    "model.add(Convolution2D(filters=64, kernel_size=(3, 3), padding='same'))\n",
    "model.add(BatchNormalization())\n",
    "model.add(Convolution2D(filters=64, kernel_size=(3, 3), padding='same'))\n",
    "model.add(BatchNormalization())\n",
    "model.add(Activation('relu'))\n",
    "model.add(AveragePooling2D(pool_size=(2, 2), padding='same'))\n",
    "model.add(Dropout(0.5))\n",
    "\n",
    "model.add(Convolution2D(filters=128, kernel_size=(3, 3), padding='same'))\n",
    "model.add(BatchNormalization())\n",
    "model.add(Convolution2D(filters=128, kernel_size=(3, 3), padding='same'))\n",
    "model.add(BatchNormalization())\n",
    "model.add(Activation('relu'))\n",
    "model.add(AveragePooling2D(pool_size=(2, 2), padding='same'))\n",
    "model.add(Dropout(0.5))\n",
    "\n",
    "model.add(Convolution2D(filters=256, kernel_size=(3, 3), padding='same'))\n",
    "model.add(BatchNormalization())\n",
    "\n",
    "model.add(Convolution2D(filters=num_classes, kernel_size=(3, 3), padding='same'))\n",
    "model.add(GlobalAveragePooling2D())\n",
    "\n",
    "model.add(Activation('softmax',name='predictions'))"
   ]
  },
  {
   "cell_type": "code",
   "execution_count": 25,
   "metadata": {},
   "outputs": [
    {
     "name": "stdout",
     "output_type": "stream",
     "text": [
      "Model: \"sequential\"\n",
      "_________________________________________________________________\n",
      "Layer (type)                 Output Shape              Param #   \n",
      "=================================================================\n",
      "image_array (Conv2D)         (None, 48, 48, 16)        800       \n",
      "_________________________________________________________________\n",
      "batch_normalization (BatchNo (None, 48, 48, 16)        64        \n",
      "_________________________________________________________________\n",
      "conv2d (Conv2D)              (None, 48, 48, 16)        12560     \n",
      "_________________________________________________________________\n",
      "batch_normalization_1 (Batch (None, 48, 48, 16)        64        \n",
      "_________________________________________________________________\n",
      "activation (Activation)      (None, 48, 48, 16)        0         \n",
      "_________________________________________________________________\n",
      "average_pooling2d (AveragePo (None, 24, 24, 16)        0         \n",
      "_________________________________________________________________\n",
      "dropout (Dropout)            (None, 24, 24, 16)        0         \n",
      "_________________________________________________________________\n",
      "conv2d_1 (Conv2D)            (None, 24, 24, 32)        12832     \n",
      "_________________________________________________________________\n",
      "batch_normalization_2 (Batch (None, 24, 24, 32)        128       \n",
      "_________________________________________________________________\n",
      "conv2d_2 (Conv2D)            (None, 24, 24, 32)        25632     \n",
      "_________________________________________________________________\n",
      "batch_normalization_3 (Batch (None, 24, 24, 32)        128       \n",
      "_________________________________________________________________\n",
      "activation_1 (Activation)    (None, 24, 24, 32)        0         \n",
      "_________________________________________________________________\n",
      "average_pooling2d_1 (Average (None, 12, 12, 32)        0         \n",
      "_________________________________________________________________\n",
      "dropout_1 (Dropout)          (None, 12, 12, 32)        0         \n",
      "_________________________________________________________________\n",
      "conv2d_3 (Conv2D)            (None, 12, 12, 64)        18496     \n",
      "_________________________________________________________________\n",
      "batch_normalization_4 (Batch (None, 12, 12, 64)        256       \n",
      "_________________________________________________________________\n",
      "conv2d_4 (Conv2D)            (None, 12, 12, 64)        36928     \n",
      "_________________________________________________________________\n",
      "batch_normalization_5 (Batch (None, 12, 12, 64)        256       \n",
      "_________________________________________________________________\n",
      "activation_2 (Activation)    (None, 12, 12, 64)        0         \n",
      "_________________________________________________________________\n",
      "average_pooling2d_2 (Average (None, 6, 6, 64)          0         \n",
      "_________________________________________________________________\n",
      "dropout_2 (Dropout)          (None, 6, 6, 64)          0         \n",
      "_________________________________________________________________\n",
      "conv2d_5 (Conv2D)            (None, 6, 6, 128)         73856     \n",
      "_________________________________________________________________\n",
      "batch_normalization_6 (Batch (None, 6, 6, 128)         512       \n",
      "_________________________________________________________________\n",
      "conv2d_6 (Conv2D)            (None, 6, 6, 128)         147584    \n",
      "_________________________________________________________________\n",
      "batch_normalization_7 (Batch (None, 6, 6, 128)         512       \n",
      "_________________________________________________________________\n",
      "activation_3 (Activation)    (None, 6, 6, 128)         0         \n",
      "_________________________________________________________________\n",
      "average_pooling2d_3 (Average (None, 3, 3, 128)         0         \n",
      "_________________________________________________________________\n",
      "dropout_3 (Dropout)          (None, 3, 3, 128)         0         \n",
      "_________________________________________________________________\n",
      "conv2d_7 (Conv2D)            (None, 3, 3, 256)         295168    \n",
      "_________________________________________________________________\n",
      "batch_normalization_8 (Batch (None, 3, 3, 256)         1024      \n",
      "_________________________________________________________________\n",
      "conv2d_8 (Conv2D)            (None, 3, 3, 7)           16135     \n",
      "_________________________________________________________________\n",
      "global_average_pooling2d (Gl (None, 7)                 0         \n",
      "_________________________________________________________________\n",
      "predictions (Activation)     (None, 7)                 0         \n",
      "=================================================================\n",
      "Total params: 642,935\n",
      "Trainable params: 641,463\n",
      "Non-trainable params: 1,472\n",
      "_________________________________________________________________\n"
     ]
    }
   ],
   "source": [
    "model.summary()"
   ]
  },
  {
   "cell_type": "code",
   "execution_count": 26,
   "metadata": {},
   "outputs": [],
   "source": [
    "from tensorflow.keras.preprocessing.image import ImageDataGenerator\n",
    "data_gen = ImageDataGenerator(\n",
    "                featurewise_center = False,\n",
    "                featurewise_std_normalization = False,\n",
    "                rotation_range = 10,\n",
    "                width_shift_range = 0.1,\n",
    "                height_shift_range = 0.1,\n",
    "                zoom_range = 0.1,\n",
    "                horizontal_flip = True\n",
    "           )"
   ]
  },
  {
   "cell_type": "code",
   "execution_count": 27,
   "metadata": {},
   "outputs": [],
   "source": [
    "from tensorflow.keras.callbacks import CSVLogger , ModelCheckpoint , EarlyStopping\n",
    "from tensorflow.keras.callbacks import ReduceLROnPlateau"
   ]
  },
  {
   "cell_type": "code",
   "execution_count": 28,
   "metadata": {},
   "outputs": [
    {
     "name": "stdout",
     "output_type": "stream",
     "text": [
      "Model: \"sequential\"\n",
      "_________________________________________________________________\n",
      "Layer (type)                 Output Shape              Param #   \n",
      "=================================================================\n",
      "image_array (Conv2D)         (None, 48, 48, 16)        800       \n",
      "_________________________________________________________________\n",
      "batch_normalization (BatchNo (None, 48, 48, 16)        64        \n",
      "_________________________________________________________________\n",
      "conv2d (Conv2D)              (None, 48, 48, 16)        12560     \n",
      "_________________________________________________________________\n",
      "batch_normalization_1 (Batch (None, 48, 48, 16)        64        \n",
      "_________________________________________________________________\n",
      "activation (Activation)      (None, 48, 48, 16)        0         \n",
      "_________________________________________________________________\n",
      "average_pooling2d (AveragePo (None, 24, 24, 16)        0         \n",
      "_________________________________________________________________\n",
      "dropout (Dropout)            (None, 24, 24, 16)        0         \n",
      "_________________________________________________________________\n",
      "conv2d_1 (Conv2D)            (None, 24, 24, 32)        12832     \n",
      "_________________________________________________________________\n",
      "batch_normalization_2 (Batch (None, 24, 24, 32)        128       \n",
      "_________________________________________________________________\n",
      "conv2d_2 (Conv2D)            (None, 24, 24, 32)        25632     \n",
      "_________________________________________________________________\n",
      "batch_normalization_3 (Batch (None, 24, 24, 32)        128       \n",
      "_________________________________________________________________\n",
      "activation_1 (Activation)    (None, 24, 24, 32)        0         \n",
      "_________________________________________________________________\n",
      "average_pooling2d_1 (Average (None, 12, 12, 32)        0         \n",
      "_________________________________________________________________\n",
      "dropout_1 (Dropout)          (None, 12, 12, 32)        0         \n",
      "_________________________________________________________________\n",
      "conv2d_3 (Conv2D)            (None, 12, 12, 64)        18496     \n",
      "_________________________________________________________________\n",
      "batch_normalization_4 (Batch (None, 12, 12, 64)        256       \n",
      "_________________________________________________________________\n",
      "conv2d_4 (Conv2D)            (None, 12, 12, 64)        36928     \n",
      "_________________________________________________________________\n",
      "batch_normalization_5 (Batch (None, 12, 12, 64)        256       \n",
      "_________________________________________________________________\n",
      "activation_2 (Activation)    (None, 12, 12, 64)        0         \n",
      "_________________________________________________________________\n",
      "average_pooling2d_2 (Average (None, 6, 6, 64)          0         \n",
      "_________________________________________________________________\n",
      "dropout_2 (Dropout)          (None, 6, 6, 64)          0         \n",
      "_________________________________________________________________\n",
      "conv2d_5 (Conv2D)            (None, 6, 6, 128)         73856     \n",
      "_________________________________________________________________\n",
      "batch_normalization_6 (Batch (None, 6, 6, 128)         512       \n",
      "_________________________________________________________________\n",
      "conv2d_6 (Conv2D)            (None, 6, 6, 128)         147584    \n",
      "_________________________________________________________________\n",
      "batch_normalization_7 (Batch (None, 6, 6, 128)         512       \n",
      "_________________________________________________________________\n",
      "activation_3 (Activation)    (None, 6, 6, 128)         0         \n",
      "_________________________________________________________________\n",
      "average_pooling2d_3 (Average (None, 3, 3, 128)         0         \n",
      "_________________________________________________________________\n",
      "dropout_3 (Dropout)          (None, 3, 3, 128)         0         \n",
      "_________________________________________________________________\n",
      "conv2d_7 (Conv2D)            (None, 3, 3, 256)         295168    \n",
      "_________________________________________________________________\n",
      "batch_normalization_8 (Batch (None, 3, 3, 256)         1024      \n",
      "_________________________________________________________________\n",
      "conv2d_8 (Conv2D)            (None, 3, 3, 7)           16135     \n",
      "_________________________________________________________________\n",
      "global_average_pooling2d (Gl (None, 7)                 0         \n",
      "_________________________________________________________________\n",
      "predictions (Activation)     (None, 7)                 0         \n",
      "=================================================================\n",
      "Total params: 642,935\n",
      "Trainable params: 641,463\n",
      "Non-trainable params: 1,472\n",
      "_________________________________________________________________\n"
     ]
    }
   ],
   "source": [
    "model.compile(optimizer='adam' , loss='categorical_crossentropy' , metrics=['accuracy'])\n",
    "model.summary()"
   ]
  },
  {
   "cell_type": "code",
   "execution_count": 29,
   "metadata": {},
   "outputs": [],
   "source": [
    "batch_size = 32 \n",
    "num_epochs = 200\n",
    "verbose = 1 \n",
    "num_classes = 7 \n",
    "patience = 50"
   ]
  },
  {
   "cell_type": "code",
   "execution_count": 32,
   "metadata": {},
   "outputs": [
    {
     "name": "stdout",
     "output_type": "stream",
     "text": [
      "Training dataset :  fer2013\n",
      "Epoch 1/30\n",
      "898/898 [==============================] - ETA: 0s - loss: 1.6286 - accuracy: 0.3543\n",
      "Epoch 00001: val_loss improved from inf to 1.55001, saving model to /fer2013simple_cnn.01 - 1.55.hdf5\n",
      "898/898 [==============================] - 287s 319ms/step - loss: 1.6286 - accuracy: 0.3543 - val_loss: 1.5500 - val_accuracy: 0.3904\n",
      "Epoch 2/30\n",
      "898/898 [==============================] - ETA: 0s - loss: 1.5749 - accuracy: 0.3834\n",
      "Epoch 00002: val_loss improved from 1.55001 to 1.45437, saving model to /fer2013simple_cnn.02 - 1.45.hdf5\n",
      "898/898 [==============================] - 277s 308ms/step - loss: 1.5749 - accuracy: 0.3834 - val_loss: 1.4544 - val_accuracy: 0.4402\n",
      "Epoch 3/30\n",
      "898/898 [==============================] - ETA: 0s - loss: 1.5276 - accuracy: 0.4006\n",
      "Epoch 00003: val_loss improved from 1.45437 to 1.41056, saving model to /fer2013simple_cnn.03 - 1.41.hdf5\n",
      "898/898 [==============================] - 277s 309ms/step - loss: 1.5276 - accuracy: 0.4006 - val_loss: 1.4106 - val_accuracy: 0.4429\n",
      "Epoch 4/30\n",
      "898/898 [==============================] - ETA: 0s - loss: 1.4953 - accuracy: 0.4167\n",
      "Epoch 00004: val_loss improved from 1.41056 to 1.35106, saving model to /fer2013simple_cnn.04 - 1.35.hdf5\n",
      "898/898 [==============================] - 278s 309ms/step - loss: 1.4953 - accuracy: 0.4167 - val_loss: 1.3511 - val_accuracy: 0.4801\n",
      "Epoch 5/30\n",
      "898/898 [==============================] - ETA: 0s - loss: 1.4606 - accuracy: 0.4325\n",
      "Epoch 00005: val_loss did not improve from 1.35106\n",
      "898/898 [==============================] - 278s 309ms/step - loss: 1.4606 - accuracy: 0.4325 - val_loss: 1.3552 - val_accuracy: 0.4890\n",
      "Epoch 6/30\n",
      "898/898 [==============================] - ETA: 0s - loss: 1.4391 - accuracy: 0.4455\n",
      "Epoch 00006: val_loss improved from 1.35106 to 1.30760, saving model to /fer2013simple_cnn.06 - 1.31.hdf5\n",
      "898/898 [==============================] - 278s 310ms/step - loss: 1.4391 - accuracy: 0.4455 - val_loss: 1.3076 - val_accuracy: 0.4947\n",
      "Epoch 7/30\n",
      "898/898 [==============================] - ETA: 0s - loss: 1.4196 - accuracy: 0.4554\n",
      "Epoch 00007: val_loss improved from 1.30760 to 1.27462, saving model to /fer2013simple_cnn.07 - 1.27.hdf5\n",
      "898/898 [==============================] - 278s 310ms/step - loss: 1.4196 - accuracy: 0.4554 - val_loss: 1.2746 - val_accuracy: 0.5124\n",
      "Epoch 8/30\n",
      "898/898 [==============================] - ETA: 0s - loss: 1.4016 - accuracy: 0.4619\n",
      "Epoch 00008: val_loss improved from 1.27462 to 1.26596, saving model to /fer2013simple_cnn.08 - 1.27.hdf5\n",
      "898/898 [==============================] - 278s 310ms/step - loss: 1.4016 - accuracy: 0.4619 - val_loss: 1.2660 - val_accuracy: 0.5075\n",
      "Epoch 9/30\n",
      "898/898 [==============================] - ETA: 0s - loss: 1.3861 - accuracy: 0.4669\n",
      "Epoch 00009: val_loss did not improve from 1.26596\n",
      "898/898 [==============================] - 278s 310ms/step - loss: 1.3861 - accuracy: 0.4669 - val_loss: 1.2700 - val_accuracy: 0.5157\n",
      "Epoch 10/30\n",
      "898/898 [==============================] - ETA: 0s - loss: 1.3706 - accuracy: 0.4794\n",
      "Epoch 00010: val_loss improved from 1.26596 to 1.26551, saving model to /fer2013simple_cnn.10 - 1.27.hdf5\n",
      "898/898 [==============================] - 278s 310ms/step - loss: 1.3706 - accuracy: 0.4794 - val_loss: 1.2655 - val_accuracy: 0.5177\n",
      "Epoch 11/30\n",
      "898/898 [==============================] - ETA: 0s - loss: 1.3627 - accuracy: 0.4800\n",
      "Epoch 00011: val_loss improved from 1.26551 to 1.22932, saving model to /fer2013simple_cnn.11 - 1.23.hdf5\n",
      "898/898 [==============================] - 279s 310ms/step - loss: 1.3627 - accuracy: 0.4800 - val_loss: 1.2293 - val_accuracy: 0.5277\n",
      "Epoch 12/30\n",
      "898/898 [==============================] - ETA: 0s - loss: 1.3455 - accuracy: 0.4861\n",
      "Epoch 00012: val_loss improved from 1.22932 to 1.22285, saving model to /fer2013simple_cnn.12 - 1.22.hdf5\n",
      "898/898 [==============================] - 278s 310ms/step - loss: 1.3455 - accuracy: 0.4861 - val_loss: 1.2229 - val_accuracy: 0.5290\n",
      "Epoch 13/30\n",
      "898/898 [==============================] - ETA: 0s - loss: 1.3362 - accuracy: 0.4865\n",
      "Epoch 00013: val_loss did not improve from 1.22285\n",
      "898/898 [==============================] - 279s 311ms/step - loss: 1.3362 - accuracy: 0.4865 - val_loss: 1.2260 - val_accuracy: 0.5351\n",
      "Epoch 14/30\n",
      "898/898 [==============================] - ETA: 0s - loss: 1.3369 - accuracy: 0.4893\n",
      "Epoch 00014: val_loss improved from 1.22285 to 1.21990, saving model to /fer2013simple_cnn.14 - 1.22.hdf5\n",
      "898/898 [==============================] - 278s 310ms/step - loss: 1.3369 - accuracy: 0.4893 - val_loss: 1.2199 - val_accuracy: 0.5287\n",
      "Epoch 15/30\n",
      "898/898 [==============================] - ETA: 0s - loss: 1.3330 - accuracy: 0.4923\n",
      "Epoch 00015: val_loss improved from 1.21990 to 1.19211, saving model to /fer2013simple_cnn.15 - 1.19.hdf5\n",
      "898/898 [==============================] - 278s 310ms/step - loss: 1.3330 - accuracy: 0.4923 - val_loss: 1.1921 - val_accuracy: 0.5439\n",
      "Epoch 16/30\n",
      "898/898 [==============================] - ETA: 0s - loss: 1.3191 - accuracy: 0.4961\n",
      "Epoch 00016: val_loss improved from 1.19211 to 1.19158, saving model to /fer2013simple_cnn.16 - 1.19.hdf5\n",
      "898/898 [==============================] - 279s 311ms/step - loss: 1.3191 - accuracy: 0.4961 - val_loss: 1.1916 - val_accuracy: 0.5522\n",
      "Epoch 17/30\n",
      "898/898 [==============================] - ETA: 0s - loss: 1.3135 - accuracy: 0.4991\n",
      "Epoch 00017: val_loss improved from 1.19158 to 1.17556, saving model to /fer2013simple_cnn.17 - 1.18.hdf5\n",
      "898/898 [==============================] - 278s 310ms/step - loss: 1.3135 - accuracy: 0.4991 - val_loss: 1.1756 - val_accuracy: 0.5524\n",
      "Epoch 18/30\n",
      "898/898 [==============================] - ETA: 0s - loss: 1.3081 - accuracy: 0.5029\n",
      "Epoch 00018: val_loss did not improve from 1.17556\n",
      "898/898 [==============================] - 278s 310ms/step - loss: 1.3081 - accuracy: 0.5029 - val_loss: 1.1895 - val_accuracy: 0.5522\n",
      "Epoch 19/30\n",
      "898/898 [==============================] - ETA: 0s - loss: 1.3104 - accuracy: 0.4984\n",
      "Epoch 00019: val_loss improved from 1.17556 to 1.16323, saving model to /fer2013simple_cnn.19 - 1.16.hdf5\n",
      "898/898 [==============================] - 299s 333ms/step - loss: 1.3104 - accuracy: 0.4984 - val_loss: 1.1632 - val_accuracy: 0.5585\n",
      "Epoch 20/30\n",
      "898/898 [==============================] - ETA: 0s - loss: 1.2991 - accuracy: 0.5083\n",
      "Epoch 00020: val_loss did not improve from 1.16323\n",
      "898/898 [==============================] - 290s 323ms/step - loss: 1.2991 - accuracy: 0.5083 - val_loss: 1.1712 - val_accuracy: 0.5515\n",
      "Epoch 21/30\n",
      "898/898 [==============================] - ETA: 0s - loss: 1.2988 - accuracy: 0.5044\n",
      "Epoch 00021: val_loss improved from 1.16323 to 1.16004, saving model to /fer2013simple_cnn.21 - 1.16.hdf5\n",
      "898/898 [==============================] - 305s 340ms/step - loss: 1.2988 - accuracy: 0.5044 - val_loss: 1.1600 - val_accuracy: 0.5556\n",
      "Epoch 22/30\n",
      "898/898 [==============================] - ETA: 0s - loss: 1.2881 - accuracy: 0.5111\n",
      "Epoch 00022: val_loss did not improve from 1.16004\n",
      "898/898 [==============================] - 300s 334ms/step - loss: 1.2881 - accuracy: 0.5111 - val_loss: 1.1712 - val_accuracy: 0.5525\n",
      "Epoch 23/30\n",
      "898/898 [==============================] - ETA: 0s - loss: 1.2923 - accuracy: 0.5106\n",
      "Epoch 00023: val_loss improved from 1.16004 to 1.15540, saving model to /fer2013simple_cnn.23 - 1.16.hdf5\n",
      "898/898 [==============================] - 280s 311ms/step - loss: 1.2923 - accuracy: 0.5106 - val_loss: 1.1554 - val_accuracy: 0.5546\n",
      "Epoch 24/30\n",
      "898/898 [==============================] - ETA: 0s - loss: 1.2850 - accuracy: 0.5135\n",
      "Epoch 00024: val_loss did not improve from 1.15540\n",
      "898/898 [==============================] - 280s 312ms/step - loss: 1.2850 - accuracy: 0.5135 - val_loss: 1.1720 - val_accuracy: 0.5535\n",
      "Epoch 25/30\n",
      "898/898 [==============================] - ETA: 0s - loss: 1.2809 - accuracy: 0.5155\n",
      "Epoch 00025: val_loss did not improve from 1.15540\n",
      "898/898 [==============================] - 282s 314ms/step - loss: 1.2809 - accuracy: 0.5155 - val_loss: 1.1746 - val_accuracy: 0.5457\n",
      "Epoch 26/30\n",
      "898/898 [==============================] - ETA: 0s - loss: 1.2821 - accuracy: 0.5157\n",
      "Epoch 00026: val_loss improved from 1.15540 to 1.13856, saving model to /fer2013simple_cnn.26 - 1.14.hdf5\n",
      "898/898 [==============================] - 326s 363ms/step - loss: 1.2821 - accuracy: 0.5157 - val_loss: 1.1386 - val_accuracy: 0.5656\n"
     ]
    },
    {
     "name": "stdout",
     "output_type": "stream",
     "text": [
      "Epoch 27/30\n",
      "898/898 [==============================] - ETA: 0s - loss: 1.2785 - accuracy: 0.5164\n",
      "Epoch 00027: val_loss did not improve from 1.13856\n",
      "898/898 [==============================] - 314s 350ms/step - loss: 1.2785 - accuracy: 0.5164 - val_loss: 1.2239 - val_accuracy: 0.5357\n",
      "Epoch 28/30\n",
      "898/898 [==============================] - ETA: 0s - loss: 1.2748 - accuracy: 0.5125\n",
      "Epoch 00028: val_loss did not improve from 1.13856\n",
      "898/898 [==============================] - 301s 335ms/step - loss: 1.2748 - accuracy: 0.5125 - val_loss: 1.1395 - val_accuracy: 0.5624\n",
      "Epoch 29/30\n",
      "898/898 [==============================] - ETA: 0s - loss: 1.2736 - accuracy: 0.5179\n",
      "Epoch 00029: val_loss did not improve from 1.13856\n",
      "898/898 [==============================] - 304s 338ms/step - loss: 1.2736 - accuracy: 0.5179 - val_loss: 1.1519 - val_accuracy: 0.5521\n",
      "Epoch 30/30\n",
      "898/898 [==============================] - ETA: 0s - loss: 1.2720 - accuracy: 0.5161\n",
      "Epoch 00030: val_loss improved from 1.13856 to 1.13726, saving model to /fer2013simple_cnn.30 - 1.14.hdf5\n",
      "898/898 [==============================] - 300s 334ms/step - loss: 1.2720 - accuracy: 0.5161 - val_loss: 1.1373 - val_accuracy: 0.5605\n"
     ]
    }
   ],
   "source": [
    "dataset = ['fer2013']\n",
    "num_epochs = 30\n",
    "base_path = '/'\n",
    "\n",
    "for dataset_name in dataset:\n",
    "    print('Training dataset : ' , dataset_name)\n",
    "    \n",
    "    log_file_path = dataset_name + '_emotion_training.log'\n",
    "    \n",
    "    csv_logger = CSVLogger(log_file_path , append=False)\n",
    "    early_stop = EarlyStopping('val_loss' , patience= patience)\n",
    "    reduce_lr = ReduceLROnPlateau('val_loss' , factor = 0.1 , patience=int(patience/4) , verbose=1)\n",
    "    \n",
    "    trained_models_path = base_path + dataset_name + 'simple_cnn'\n",
    "    model_names = trained_models_path + '.{epoch:02d} - {val_loss:.2f}.hdf5'\n",
    "    \n",
    "    model_checkpoint = ModelCheckpoint(model_names , 'val_loss' , verbose=1 , save_best_only=True)\n",
    "    \n",
    "    my_callbacks = [model_checkpoint , csv_logger , early_stop , reduce_lr]\n",
    "    \n",
    "    train_faces , train_emotions = train_data\n",
    "    history = model.fit_generator(data_gen.flow(train_faces , train_emotions , batch_size) , epochs = num_epochs , verbose=1 , callbacks=my_callbacks , validation_data=val_data)\n",
    "    "
   ]
  },
  {
   "cell_type": "code",
   "execution_count": 33,
   "metadata": {},
   "outputs": [
    {
     "name": "stdout",
     "output_type": "stream",
     "text": [
      "225/225 [==============================] - 9s 41ms/step - loss: 1.1373 - accuracy: 0.5605\n",
      "Test Loss :  1.1372560262680054\n",
      "Test Accuracy :  56.04625344276428 %\n"
     ]
    }
   ],
   "source": [
    "score = model.evaluate(val_x , val_y , verbose=1)\n",
    "print('Test Loss : ' , score[0])\n",
    "print('Test Accuracy : ' , score[1]*100 , \"%\")"
   ]
  },
  {
   "cell_type": "code",
   "execution_count": 34,
   "metadata": {},
   "outputs": [
    {
     "data": {
      "text/plain": [
       "dict_keys(['loss', 'accuracy', 'val_loss', 'val_accuracy', 'lr'])"
      ]
     },
     "execution_count": 34,
     "metadata": {},
     "output_type": "execute_result"
    }
   ],
   "source": [
    "history_dict = history.history\n",
    "history_dict.keys()"
   ]
  },
  {
   "cell_type": "code",
   "execution_count": 35,
   "metadata": {},
   "outputs": [
    {
     "name": "stdout",
     "output_type": "stream",
     "text": [
      "[0.35427916049957275, 0.3834337592124939, 0.40064090490341187, 0.4166637659072876, 0.4324776232242584, 0.44550490379333496, 0.4553624391555786, 0.4619109034538269, 0.46689191460609436, 0.47943153977394104, 0.47998884320259094, 0.4861193299293518, 0.4864676594734192, 0.4893239140510559, 0.4923194944858551, 0.49611619114875793, 0.49914661049842834, 0.5029433369636536, 0.49841514229774475, 0.508272647857666, 0.5044062733650208, 0.5111289024353027, 0.5106064081192017, 0.5135323405265808, 0.5154829621315002, 0.5156571269035339, 0.5164234042167664, 0.5125222206115723, 0.5179212093353271, 0.516075074672699]\n"
     ]
    }
   ],
   "source": [
    "print(history_dict[\"accuracy\"])"
   ]
  },
  {
   "cell_type": "code",
   "execution_count": 36,
   "metadata": {},
   "outputs": [
    {
     "data": {
      "image/png": "[encoded data removed]",
      "text/plain": [
       "<Figure size 432x288 with 1 Axes>"
      ]
     },
     "metadata": {
      "needs_background": "light"
     },
     "output_type": "display_data"
    }
   ],
   "source": [
    "train_loss_values = history_dict['loss']\n",
    "val_loss_values = history_dict['val_loss']\n",
    "\n",
    "epochs = range(1,len(history_dict['accuracy']) + 1)\n",
    "\n",
    "plt.plot(epochs , train_loss_values , 'ro' , label=\"Training Loss\")\n",
    "plt.plot(epochs , val_loss_values , 'g-' , label=\"Validation Loss\")\n",
    "plt.title('Train and Val Loss')\n",
    "plt.xlabel('Epochs')\n",
    "plt.ylabel('Loss')\n",
    "plt.legend()\n",
    "plt.show()"
   ]
  },
  {
   "cell_type": "code",
   "execution_count": 37,
   "metadata": {},
   "outputs": [
    {
     "data": {
      "image/png": "[encoded data removed]",
      "text/plain": [
       "<Figure size 432x288 with 1 Axes>"
      ]
     },
     "metadata": {
      "needs_background": "light"
     },
     "output_type": "display_data"
    }
   ],
   "source": [
    "train_acc = history_dict['accuracy']\n",
    "val_acc = history_dict['val_accuracy']\n",
    "plt.plot(epochs, train_acc, 'ro', label='Training accuracy')\n",
    "plt.plot(epochs, val_acc, 'g-', label='Validation accuracy')\n",
    "plt.title('Train and Val accuracy')\n",
    "plt.xlabel('Epochs')\n",
    "plt.ylabel('Loss')\n",
    "plt.legend()\n",
    "plt.show()"
   ]
  },
  {
   "cell_type": "code",
   "execution_count": 38,
   "metadata": {},
   "outputs": [],
   "source": [
    "emotion_dict = {0: \"Neutral\", 1: \"Disgusted\", 2: \"Fearful\", 3: \"Happy\", 4: \"Sad\", 5: \"Surprised\", 6: \"Neutral\"}\n",
    "emojis = { 0:\"\\U0001f620\",1:\"\\U0001f922\" ,2:\"\\U0001f628\" ,3:\"\\U0001f60A\" , 4:\"\\U0001f625\" ,5:\"\\U0001f632\",6:\"\\U0001f610\" }"
   ]
  },
  {
   "cell_type": "code",
   "execution_count": 39,
   "metadata": {},
   "outputs": [
    {
     "name": "stdout",
     "output_type": "stream",
     "text": [
      "dict_values(['😠', '🤢', '😨', '😊', '😥', '😲', '😐'])\n"
     ]
    }
   ],
   "source": [
    "print(emojis.values() , sep = \" \")"
   ]
  },
  {
   "cell_type": "code",
   "execution_count": null,
   "metadata": {},
   "outputs": [],
   "source": [
    "%matplotlib inline"
   ]
  },
  {
   "cell_type": "code",
   "execution_count": 48,
   "metadata": {},
   "outputs": [],
   "source": [
    "import cv2\n",
    "\n",
    "def predict(path):\n",
    "    facecasc = cv2.CascadeClassifier(cv2.data.haarcascades + 'haarcascade_frontalface_default.xml')\n",
    "    imagePath = path\n",
    "    image = cv2.imread(imagePath)\n",
    "    gray = cv2.cvtColor(image, cv2.COLOR_BGR2GRAY)\n",
    "    faces = facecasc.detectMultiScale(gray,scaleFactor=1.3, minNeighbors=10)\n",
    "    print(\"No of faces : \",len(faces))\n",
    "    i = 1\n",
    "    for (x, y, w, h) in faces:\n",
    "        i=i+1\n",
    "        cv2.rectangle(image, (x, y), (x+w, y+h), (0, 255, 0), 2)\n",
    "        roi_gray = gray[y:y + h, x:x + w]                      #croping\n",
    "        cropped_img = np.expand_dims(np.expand_dims(cv2.resize(roi_gray, (48, 48)), -1), 0)\n",
    "        prediction = model.predict(cropped_img)\n",
    "\n",
    "        maxindex = int(np.argmax(prediction))\n",
    "        print(\"person \",i,\" : \",emotion_dict[maxindex], \"-->\",emojis[maxindex])\n",
    "        cv2.putText(image, emotion_dict[maxindex], (x+10, y-20), cv2.FONT_HERSHEY_SIMPLEX, 0.7, (255, 255, 255), 2)  \n",
    "                                              #if text is not apeared , change coordinates. it may work\n",
    "  \n",
    "    plt.imshow(image)\n",
    "    plt.show()"
   ]
  },
  {
   "cell_type": "code",
   "execution_count": 51,
   "metadata": {},
   "outputs": [
    {
     "name": "stdout",
     "output_type": "stream",
     "text": [
      "No of faces :  1\n",
      "person  2  :  Fearful --> 😨\n"
     ]
    }
   ],
   "source": [
    "\n",
    "predict('trial.jpg')"
   ]
  },
  {
   "cell_type": "code",
   "execution_count": null,
   "metadata": {},
   "outputs": [],
   "source": []
  }
 ],
 "metadata": {
  "kernelspec": {
   "display_name": "Python 3",
   "language": "python",
   "name": "python3"
  },
  "language_info": {
   "codemirror_mode": {
    "name": "ipython",
    "version": 3
   },
   "file_extension": ".py",
   "mimetype": "text/x-python",
   "name": "python",
   "nbconvert_exporter": "python",
   "pygments_lexer": "ipython3",
   "version": "3.8.5"
  }
 },
 "nbformat": 4,
 "nbformat_minor": 4
}
