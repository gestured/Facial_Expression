{
 "cells": [
  {
   "cell_type": "code",
   "execution_count": 1,
   "metadata": {},
   "outputs": [],
   "source": [
    "import numpy as np\n",
    "import pandas as pd\n",
    "import matplotlib.pyplot as plt\n",
    "import seaborn as sns"
   ]
  },
  {
   "cell_type": "code",
   "execution_count": 2,
   "metadata": {},
   "outputs": [
    {
     "data": {
      "text/html": [
       "<div>\n",
       "<style scoped>\n",
       "    .dataframe tbody tr th:only-of-type {\n",
       "        vertical-align: middle;\n",
       "    }\n",
       "\n",
       "    .dataframe tbody tr th {\n",
       "        vertical-align: top;\n",
       "    }\n",
       "\n",
       "    .dataframe thead th {\n",
       "        text-align: right;\n",
       "    }\n",
       "</style>\n",
       "<table border=\"1\" class=\"dataframe\">\n",
       "  <thead>\n",
       "    <tr style=\"text-align: right;\">\n",
       "      <th></th>\n",
       "      <th>emotion</th>\n",
       "      <th>pixels</th>\n",
       "      <th>Usage</th>\n",
       "    </tr>\n",
       "  </thead>\n",
       "  <tbody>\n",
       "    <tr>\n",
       "      <th>0</th>\n",
       "      <td>0</td>\n",
       "      <td>70 80 82 72 58 58 60 63 54 58 60 48 89 115 121...</td>\n",
       "      <td>Training</td>\n",
       "    </tr>\n",
       "    <tr>\n",
       "      <th>1</th>\n",
       "      <td>0</td>\n",
       "      <td>151 150 147 155 148 133 111 140 170 174 182 15...</td>\n",
       "      <td>Training</td>\n",
       "    </tr>\n",
       "    <tr>\n",
       "      <th>2</th>\n",
       "      <td>2</td>\n",
       "      <td>231 212 156 164 174 138 161 173 182 200 106 38...</td>\n",
       "      <td>Training</td>\n",
       "    </tr>\n",
       "    <tr>\n",
       "      <th>3</th>\n",
       "      <td>4</td>\n",
       "      <td>24 32 36 30 32 23 19 20 30 41 21 22 32 34 21 1...</td>\n",
       "      <td>Training</td>\n",
       "    </tr>\n",
       "    <tr>\n",
       "      <th>4</th>\n",
       "      <td>6</td>\n",
       "      <td>4 0 0 0 0 0 0 0 0 0 0 0 3 15 23 28 48 50 58 84...</td>\n",
       "      <td>Training</td>\n",
       "    </tr>\n",
       "  </tbody>\n",
       "</table>\n",
       "</div>"
      ],
      "text/plain": [
       "   emotion                                             pixels     Usage\n",
       "0        0  70 80 82 72 58 58 60 63 54 58 60 48 89 115 121...  Training\n",
       "1        0  151 150 147 155 148 133 111 140 170 174 182 15...  Training\n",
       "2        2  231 212 156 164 174 138 161 173 182 200 106 38...  Training\n",
       "3        4  24 32 36 30 32 23 19 20 30 41 21 22 32 34 21 1...  Training\n",
       "4        6  4 0 0 0 0 0 0 0 0 0 0 0 3 15 23 28 48 50 58 84...  Training"
      ]
     },
     "execution_count": 2,
     "metadata": {},
     "output_type": "execute_result"
    }
   ],
   "source": [
    "df = pd.read_csv(\"fer2013/fer2013.csv\")\n",
    "df.head()"
   ]
  },
  {
   "cell_type": "code",
   "execution_count": 3,
   "metadata": {},
   "outputs": [
    {
     "data": {
      "text/plain": [
       "(35887, 3)"
      ]
     },
     "execution_count": 3,
     "metadata": {},
     "output_type": "execute_result"
    }
   ],
   "source": [
    "df.shape"
   ]
  },
  {
   "cell_type": "markdown",
   "metadata": {},
   "source": [
    "## Plotting Shapes"
   ]
  },
  {
   "cell_type": "code",
   "execution_count": 4,
   "metadata": {},
   "outputs": [
    {
     "data": {
      "text/plain": [
       "<AxesSubplot:xlabel='emotion', ylabel='count'>"
      ]
     },
     "execution_count": 4,
     "metadata": {},
     "output_type": "execute_result"
    },
    {
     "data": {
      "image/png": "[encoded data removed]",
      "text/plain": [
       "<Figure size 648x288 with 1 Axes>"
      ]
     },
     "metadata": {
      "needs_background": "light"
     },
     "output_type": "display_data"
    }
   ],
   "source": [
    "plt.figure(figsize = (9,4))\n",
    "sns.countplot(x='emotion' , data = df)"
   ]
  },
  {
   "cell_type": "code",
   "execution_count": 5,
   "metadata": {},
   "outputs": [
    {
     "data": {
      "text/plain": [
       "3    8989\n",
       "6    6198\n",
       "4    6077\n",
       "2    5121\n",
       "0    4953\n",
       "5    4002\n",
       "1     547\n",
       "Name: emotion, dtype: int64"
      ]
     },
     "execution_count": 5,
     "metadata": {},
     "output_type": "execute_result"
    }
   ],
   "source": [
    "df['emotion'].value_counts()"
   ]
  },
  {
   "cell_type": "markdown",
   "metadata": {},
   "source": [
    "Here we have\n",
    "#### 0 : Angry\n",
    "#### 1 : Disgust\n",
    "#### 2 : Fear\n",
    "#### 3 : Happy\n",
    "#### 4 : Sad\n",
    "#### 5 : Surprise\n",
    "#### 6 : Neutral"
   ]
  },
  {
   "cell_type": "code",
   "execution_count": 6,
   "metadata": {},
   "outputs": [
    {
     "data": {
      "text/plain": [
       "<AxesSubplot:xlabel='Usage', ylabel='count'>"
      ]
     },
     "execution_count": 6,
     "metadata": {},
     "output_type": "execute_result"
    },
    {
     "data": {
      "image/png": "[encoded data removed]",
      "text/plain": [
       "<Figure size 648x288 with 1 Axes>"
      ]
     },
     "metadata": {
      "needs_background": "light"
     },
     "output_type": "display_data"
    }
   ],
   "source": [
    "plt.figure(figsize=(9,4))\n",
    "sns.countplot(x = 'Usage' , data=df)"
   ]
  },
  {
   "cell_type": "markdown",
   "metadata": {},
   "source": [
    "## Preprocess"
   ]
  },
  {
   "cell_type": "code",
   "execution_count": 7,
   "metadata": {},
   "outputs": [],
   "source": [
    "import cv2\n",
    "image_size = (48,48)"
   ]
  },
  {
   "cell_type": "code",
   "execution_count": 8,
   "metadata": {},
   "outputs": [],
   "source": [
    "#Convert column element to list for each row\n",
    "pixels = df['pixels'].tolist()\n",
    "\n",
    "w , h = 48 , 48\n",
    "faces = []\n",
    "\n",
    "for pixel_seq in pixels:\n",
    "    face = [int(pixel) for pixel in pixel_seq.split(' ')]\n",
    "    \n",
    "    face = np.asarray(face).reshape(w,h)\n",
    "    \n",
    "    face = cv2.resize(face.astype('uint8') , image_size)\n",
    "    \n",
    "    faces.append(face.astype('float32'))\n",
    "    \n",
    "faces = np.asarray(faces)\n",
    "faces = np.expand_dims(faces , -1)\n",
    "\n",
    "emotions = pd.get_dummies(df['emotion']).to_numpy()"
   ]
  },
  {
   "cell_type": "code",
   "execution_count": 9,
   "metadata": {},
   "outputs": [
    {
     "name": "stdout",
     "output_type": "stream",
     "text": [
      "[[[231.]\n",
      "  [212.]\n",
      "  [156.]\n",
      "  ...\n",
      "  [ 44.]\n",
      "  [ 27.]\n",
      "  [ 16.]]\n",
      "\n",
      " [[229.]\n",
      "  [175.]\n",
      "  [148.]\n",
      "  ...\n",
      "  [ 27.]\n",
      "  [ 35.]\n",
      "  [ 27.]]\n",
      "\n",
      " [[214.]\n",
      "  [156.]\n",
      "  [157.]\n",
      "  ...\n",
      "  [ 28.]\n",
      "  [ 22.]\n",
      "  [ 28.]]\n",
      "\n",
      " ...\n",
      "\n",
      " [[241.]\n",
      "  [245.]\n",
      "  [250.]\n",
      "  ...\n",
      "  [ 57.]\n",
      "  [101.]\n",
      "  [146.]]\n",
      "\n",
      " [[246.]\n",
      "  [250.]\n",
      "  [252.]\n",
      "  ...\n",
      "  [ 78.]\n",
      "  [105.]\n",
      "  [162.]]\n",
      "\n",
      " [[250.]\n",
      "  [251.]\n",
      "  [250.]\n",
      "  ...\n",
      "  [ 88.]\n",
      "  [110.]\n",
      "  [152.]]]\n",
      "[0 0 1 0 0 0 0]\n"
     ]
    }
   ],
   "source": [
    "print(faces[2])\n",
    "print(emotions[2])"
   ]
  },
  {
   "cell_type": "code",
   "execution_count": 10,
   "metadata": {},
   "outputs": [
    {
     "data": {
      "text/plain": [
       "(35887, 48, 48, 1)"
      ]
     },
     "execution_count": 10,
     "metadata": {},
     "output_type": "execute_result"
    }
   ],
   "source": [
    "faces.shape"
   ]
  },
  {
   "cell_type": "code",
   "execution_count": 11,
   "metadata": {},
   "outputs": [
    {
     "data": {
      "text/plain": [
       "(35887, 7)"
      ]
     },
     "execution_count": 11,
     "metadata": {},
     "output_type": "execute_result"
    }
   ],
   "source": [
    "emotions.shape"
   ]
  },
  {
   "cell_type": "markdown",
   "metadata": {},
   "source": [
    "## SPliiting Dataset"
   ]
  },
  {
   "cell_type": "markdown",
   "metadata": {},
   "source": [
    "### Scalling data pixels b/w -1 to 1"
   ]
  },
  {
   "cell_type": "code",
   "execution_count": 12,
   "metadata": {},
   "outputs": [],
   "source": [
    "x = faces.astype('float32')\n",
    "x = x / 255.0\n",
    "\n",
    "x = x - 0.5\n",
    "\n",
    "x = x * 2.0"
   ]
  },
  {
   "cell_type": "code",
   "execution_count": 13,
   "metadata": {},
   "outputs": [
    {
     "data": {
      "text/plain": [
       "numpy.ndarray"
      ]
     },
     "execution_count": 13,
     "metadata": {},
     "output_type": "execute_result"
    }
   ],
   "source": [
    "type(x)"
   ]
  },
  {
   "cell_type": "code",
   "execution_count": 14,
   "metadata": {},
   "outputs": [
    {
     "data": {
      "image/png": "[encoded data removed]",
      "text/plain": [
       "<Figure size 432x288 with 1 Axes>"
      ]
     },
     "metadata": {
      "needs_background": "light"
     },
     "output_type": "display_data"
    }
   ],
   "source": [
    "plt.plot(x[15,8])\n",
    "plt.show()"
   ]
  },
  {
   "cell_type": "code",
   "execution_count": 15,
   "metadata": {},
   "outputs": [
    {
     "data": {
      "text/plain": [
       "-1.0"
      ]
     },
     "execution_count": 15,
     "metadata": {},
     "output_type": "execute_result"
    }
   ],
   "source": [
    "x.min()"
   ]
  },
  {
   "cell_type": "code",
   "execution_count": 16,
   "metadata": {},
   "outputs": [
    {
     "data": {
      "text/plain": [
       "1.0"
      ]
     },
     "execution_count": 16,
     "metadata": {},
     "output_type": "execute_result"
    }
   ],
   "source": [
    "x.max()"
   ]
  },
  {
   "cell_type": "markdown",
   "metadata": {},
   "source": [
    "### Splitting Train and validate"
   ]
  },
  {
   "cell_type": "code",
   "execution_count": 17,
   "metadata": {},
   "outputs": [],
   "source": [
    "num_samp , num_classes = emotions.shape"
   ]
  },
  {
   "cell_type": "code",
   "execution_count": 18,
   "metadata": {},
   "outputs": [],
   "source": [
    "num_samp = len(x)\n",
    "num_train_samp = int((1.0 - 0.2)*num_samp)\n",
    "\n",
    "train_x , train_y = x[:num_train_samp] , emotions[:num_train_samp]\n",
    "\n",
    "val_x , val_y = x[num_train_samp:] , emotions[num_train_samp:]\n",
    "\n",
    "train_data = (train_x , train_y)\n",
    "val_data = (val_x , val_y)"
   ]
  },
  {
   "cell_type": "code",
   "execution_count": 19,
   "metadata": {},
   "outputs": [
    {
     "name": "stdout",
     "output_type": "stream",
     "text": [
      "Training size (28709, 48, 48, 1)\n",
      "Training labels size (28709, 7)\n",
      "Validation pixels size (7178, 48, 48, 1)\n",
      "Validation label size (7178, 7)\n"
     ]
    }
   ],
   "source": [
    "print(\"Training size\" , train_x.shape)\n",
    "print(\"Training labels size\" , train_y.shape)\n",
    "print(\"Validation pixels size\" , val_x.shape)\n",
    "print(\"Validation label size\" , val_y.shape)"
   ]
  },
  {
   "cell_type": "markdown",
   "metadata": {},
   "source": [
    "## Defining Model"
   ]
  },
  {
   "cell_type": "code",
   "execution_count": 20,
   "metadata": {},
   "outputs": [],
   "source": [
    "from tensorflow.keras.layers import Activation , Convolution2D , Dropout , Conv2D\n",
    "from tensorflow.keras.layers import AveragePooling2D , BatchNormalization , MaxPooling2D , GlobalAveragePooling2D\n",
    "from tensorflow.keras.models import Sequential , Model\n",
    "from tensorflow.keras.layers import Flatten , Input , SeparableConv2D\n",
    "from tensorflow.keras.regularizers import l2"
   ]
  },
  {
   "cell_type": "code",
   "execution_count": 21,
   "metadata": {},
   "outputs": [],
   "source": [
    "input_shape = (48 , 48  ,1)\n",
    "num_classes = 7"
   ]
  },
  {
   "cell_type": "code",
   "execution_count": 22,
   "metadata": {},
   "outputs": [],
   "source": [
    "model = Sequential()\n",
    "\n",
    "model.add(Convolution2D(filters = 16 , kernel_size = (7,7) , padding = 'same' , name = 'image_array' , input_shape = input_shape))\n",
    "model.add(BatchNormalization())\n",
    "model.add(Convolution2D(filters = 16 , kernel_size = (7,7) , padding = 'same'))\n",
    "model.add(BatchNormalization())\n",
    "model.add(Activation('relu'))\n",
    "model.add(AveragePooling2D(pool_size = (2,2) , padding = 'same'))\n",
    "model.add(Dropout(0.5))\n",
    "\n",
    "model.add(Convolution2D(filters=32, kernel_size=(5, 5), padding='same'))\n",
    "model.add(BatchNormalization())\n",
    "model.add(Convolution2D(filters=32, kernel_size=(5, 5), padding='same'))\n",
    "model.add(BatchNormalization())\n",
    "model.add(Activation('relu'))\n",
    "model.add(AveragePooling2D(pool_size=(2, 2), padding='same'))\n",
    "model.add(Dropout(0.5))\n",
    "\n",
    "model.add(Convolution2D(filters=64, kernel_size=(3, 3), padding='same'))\n",
    "model.add(BatchNormalization())\n",
    "model.add(Convolution2D(filters=64, kernel_size=(3, 3), padding='same'))\n",
    "model.add(BatchNormalization())\n",
    "model.add(Activation('relu'))\n",
    "model.add(AveragePooling2D(pool_size=(2, 2), padding='same'))\n",
    "model.add(Dropout(0.5))\n",
    "\n",
    "model.add(Convolution2D(filters=128, kernel_size=(3, 3), padding='same'))\n",
    "model.add(BatchNormalization())\n",
    "model.add(Convolution2D(filters=128, kernel_size=(3, 3), padding='same'))\n",
    "model.add(BatchNormalization())\n",
    "model.add(Activation('relu'))\n",
    "model.add(AveragePooling2D(pool_size=(2, 2), padding='same'))\n",
    "model.add(Dropout(0.5))\n",
    "\n",
    "model.add(Convolution2D(filters=256, kernel_size=(3, 3), padding='same'))\n",
    "model.add(BatchNormalization())\n",
    "\n",
    "model.add(Convolution2D(filters=num_classes, kernel_size=(3, 3), padding='same'))\n",
    "model.add(GlobalAveragePooling2D())\n",
    "\n",
    "model.add(Activation('softmax',name='predictions'))"
   ]
  },
  {
   "cell_type": "code",
   "execution_count": 23,
   "metadata": {},
   "outputs": [
    {
     "name": "stdout",
     "output_type": "stream",
     "text": [
      "Model: \"sequential\"\n",
      "_________________________________________________________________\n",
      "Layer (type)                 Output Shape              Param #   \n",
      "=================================================================\n",
      "image_array (Conv2D)         (None, 48, 48, 16)        800       \n",
      "_________________________________________________________________\n",
      "batch_normalization (BatchNo (None, 48, 48, 16)        64        \n",
      "_________________________________________________________________\n",
      "conv2d (Conv2D)              (None, 48, 48, 16)        12560     \n",
      "_________________________________________________________________\n",
      "batch_normalization_1 (Batch (None, 48, 48, 16)        64        \n",
      "_________________________________________________________________\n",
      "activation (Activation)      (None, 48, 48, 16)        0         \n",
      "_________________________________________________________________\n",
      "average_pooling2d (AveragePo (None, 24, 24, 16)        0         \n",
      "_________________________________________________________________\n",
      "dropout (Dropout)            (None, 24, 24, 16)        0         \n",
      "_________________________________________________________________\n",
      "conv2d_1 (Conv2D)            (None, 24, 24, 32)        12832     \n",
      "_________________________________________________________________\n",
      "batch_normalization_2 (Batch (None, 24, 24, 32)        128       \n",
      "_________________________________________________________________\n",
      "conv2d_2 (Conv2D)            (None, 24, 24, 32)        25632     \n",
      "_________________________________________________________________\n",
      "batch_normalization_3 (Batch (None, 24, 24, 32)        128       \n",
      "_________________________________________________________________\n",
      "activation_1 (Activation)    (None, 24, 24, 32)        0         \n",
      "_________________________________________________________________\n",
      "average_pooling2d_1 (Average (None, 12, 12, 32)        0         \n",
      "_________________________________________________________________\n",
      "dropout_1 (Dropout)          (None, 12, 12, 32)        0         \n",
      "_________________________________________________________________\n",
      "conv2d_3 (Conv2D)            (None, 12, 12, 64)        18496     \n",
      "_________________________________________________________________\n",
      "batch_normalization_4 (Batch (None, 12, 12, 64)        256       \n",
      "_________________________________________________________________\n",
      "conv2d_4 (Conv2D)            (None, 12, 12, 64)        36928     \n",
      "_________________________________________________________________\n",
      "batch_normalization_5 (Batch (None, 12, 12, 64)        256       \n",
      "_________________________________________________________________\n",
      "activation_2 (Activation)    (None, 12, 12, 64)        0         \n",
      "_________________________________________________________________\n",
      "average_pooling2d_2 (Average (None, 6, 6, 64)          0         \n",
      "_________________________________________________________________\n",
      "dropout_2 (Dropout)          (None, 6, 6, 64)          0         \n",
      "_________________________________________________________________\n",
      "conv2d_5 (Conv2D)            (None, 6, 6, 128)         73856     \n",
      "_________________________________________________________________\n",
      "batch_normalization_6 (Batch (None, 6, 6, 128)         512       \n",
      "_________________________________________________________________\n",
      "conv2d_6 (Conv2D)            (None, 6, 6, 128)         147584    \n",
      "_________________________________________________________________\n",
      "batch_normalization_7 (Batch (None, 6, 6, 128)         512       \n",
      "_________________________________________________________________\n",
      "activation_3 (Activation)    (None, 6, 6, 128)         0         \n",
      "_________________________________________________________________\n",
      "average_pooling2d_3 (Average (None, 3, 3, 128)         0         \n",
      "_________________________________________________________________\n",
      "dropout_3 (Dropout)          (None, 3, 3, 128)         0         \n",
      "_________________________________________________________________\n",
      "conv2d_7 (Conv2D)            (None, 3, 3, 256)         295168    \n",
      "_________________________________________________________________\n",
      "batch_normalization_8 (Batch (None, 3, 3, 256)         1024      \n",
      "_________________________________________________________________\n",
      "conv2d_8 (Conv2D)            (None, 3, 3, 7)           16135     \n",
      "_________________________________________________________________\n",
      "global_average_pooling2d (Gl (None, 7)                 0         \n",
      "_________________________________________________________________\n",
      "predictions (Activation)     (None, 7)                 0         \n",
      "=================================================================\n",
      "Total params: 642,935\n",
      "Trainable params: 641,463\n",
      "Non-trainable params: 1,472\n",
      "_________________________________________________________________\n"
     ]
    }
   ],
   "source": [
    "model.summary()"
   ]
  },
  {
   "cell_type": "code",
   "execution_count": 24,
   "metadata": {},
   "outputs": [],
   "source": [
    "from tensorflow.keras.preprocessing.image import ImageDataGenerator\n",
    "data_gen = ImageDataGenerator(\n",
    "                featurewise_center = False,\n",
    "                featurewise_std_normalization = False,\n",
    "                rotation_range = 10,\n",
    "                width_shift_range = 0.1,\n",
    "                height_shift_range = 0.1,\n",
    "                zoom_range = 0.1,\n",
    "                horizontal_flip = True\n",
    "           )"
   ]
  },
  {
   "cell_type": "code",
   "execution_count": 25,
   "metadata": {},
   "outputs": [],
   "source": [
    "from tensorflow.keras.callbacks import CSVLogger , ModelCheckpoint , EarlyStopping\n",
    "from tensorflow.keras.callbacks import ReduceLROnPlateau"
   ]
  },
  {
   "cell_type": "code",
   "execution_count": 26,
   "metadata": {},
   "outputs": [
    {
     "name": "stdout",
     "output_type": "stream",
     "text": [
      "Model: \"sequential\"\n",
      "_________________________________________________________________\n",
      "Layer (type)                 Output Shape              Param #   \n",
      "=================================================================\n",
      "image_array (Conv2D)         (None, 48, 48, 16)        800       \n",
      "_________________________________________________________________\n",
      "batch_normalization (BatchNo (None, 48, 48, 16)        64        \n",
      "_________________________________________________________________\n",
      "conv2d (Conv2D)              (None, 48, 48, 16)        12560     \n",
      "_________________________________________________________________\n",
      "batch_normalization_1 (Batch (None, 48, 48, 16)        64        \n",
      "_________________________________________________________________\n",
      "activation (Activation)      (None, 48, 48, 16)        0         \n",
      "_________________________________________________________________\n",
      "average_pooling2d (AveragePo (None, 24, 24, 16)        0         \n",
      "_________________________________________________________________\n",
      "dropout (Dropout)            (None, 24, 24, 16)        0         \n",
      "_________________________________________________________________\n",
      "conv2d_1 (Conv2D)            (None, 24, 24, 32)        12832     \n",
      "_________________________________________________________________\n",
      "batch_normalization_2 (Batch (None, 24, 24, 32)        128       \n",
      "_________________________________________________________________\n",
      "conv2d_2 (Conv2D)            (None, 24, 24, 32)        25632     \n",
      "_________________________________________________________________\n",
      "batch_normalization_3 (Batch (None, 24, 24, 32)        128       \n",
      "_________________________________________________________________\n",
      "activation_1 (Activation)    (None, 24, 24, 32)        0         \n",
      "_________________________________________________________________\n",
      "average_pooling2d_1 (Average (None, 12, 12, 32)        0         \n",
      "_________________________________________________________________\n",
      "dropout_1 (Dropout)          (None, 12, 12, 32)        0         \n",
      "_________________________________________________________________\n",
      "conv2d_3 (Conv2D)            (None, 12, 12, 64)        18496     \n",
      "_________________________________________________________________\n",
      "batch_normalization_4 (Batch (None, 12, 12, 64)        256       \n",
      "_________________________________________________________________\n",
      "conv2d_4 (Conv2D)            (None, 12, 12, 64)        36928     \n",
      "_________________________________________________________________\n",
      "batch_normalization_5 (Batch (None, 12, 12, 64)        256       \n",
      "_________________________________________________________________\n",
      "activation_2 (Activation)    (None, 12, 12, 64)        0         \n",
      "_________________________________________________________________\n",
      "average_pooling2d_2 (Average (None, 6, 6, 64)          0         \n",
      "_________________________________________________________________\n",
      "dropout_2 (Dropout)          (None, 6, 6, 64)          0         \n",
      "_________________________________________________________________\n",
      "conv2d_5 (Conv2D)            (None, 6, 6, 128)         73856     \n",
      "_________________________________________________________________\n",
      "batch_normalization_6 (Batch (None, 6, 6, 128)         512       \n",
      "_________________________________________________________________\n",
      "conv2d_6 (Conv2D)            (None, 6, 6, 128)         147584    \n",
      "_________________________________________________________________\n",
      "batch_normalization_7 (Batch (None, 6, 6, 128)         512       \n",
      "_________________________________________________________________\n",
      "activation_3 (Activation)    (None, 6, 6, 128)         0         \n",
      "_________________________________________________________________\n",
      "average_pooling2d_3 (Average (None, 3, 3, 128)         0         \n",
      "_________________________________________________________________\n",
      "dropout_3 (Dropout)          (None, 3, 3, 128)         0         \n",
      "_________________________________________________________________\n",
      "conv2d_7 (Conv2D)            (None, 3, 3, 256)         295168    \n",
      "_________________________________________________________________\n",
      "batch_normalization_8 (Batch (None, 3, 3, 256)         1024      \n",
      "_________________________________________________________________\n",
      "conv2d_8 (Conv2D)            (None, 3, 3, 7)           16135     \n",
      "_________________________________________________________________\n",
      "global_average_pooling2d (Gl (None, 7)                 0         \n",
      "_________________________________________________________________\n",
      "predictions (Activation)     (None, 7)                 0         \n",
      "=================================================================\n",
      "Total params: 642,935\n",
      "Trainable params: 641,463\n",
      "Non-trainable params: 1,472\n",
      "_________________________________________________________________\n"
     ]
    }
   ],
   "source": [
    "model.compile(optimizer='adam' , loss='categorical_crossentropy' , metrics=['accuracy'])\n",
    "model.summary()"
   ]
  },
  {
   "cell_type": "code",
   "execution_count": 27,
   "metadata": {},
   "outputs": [],
   "source": [
    "batch_size = 32 \n",
    "num_epochs = 200\n",
    "verbose = 1 \n",
    "num_classes = 7 \n",
    "patience = 50"
   ]
  },
  {
   "cell_type": "code",
   "execution_count": 28,
   "metadata": {},
   "outputs": [
    {
     "name": "stdout",
     "output_type": "stream",
     "text": [
      "Training dataset :  fer2013\n",
      "WARNING:tensorflow:From <ipython-input-28-789278d51f9a>:22: Model.fit_generator (from tensorflow.python.keras.engine.training) is deprecated and will be removed in a future version.\n",
      "Instructions for updating:\n",
      "Please use Model.fit, which supports generators.\n",
      "Epoch 1/30\n",
      "898/898 [==============================] - ETA: 0s - loss: 1.7778 - accuracy: 0.2851\n",
      "Epoch 00001: val_loss improved from inf to 1.69734, saving model to /fer2013simple_cnn.01 - 1.70.hdf5\n",
      "898/898 [==============================] - 299s 333ms/step - loss: 1.7778 - accuracy: 0.2851 - val_loss: 1.6973 - val_accuracy: 0.3342\n",
      "Epoch 2/30\n",
      "898/898 [==============================] - ETA: 0s - loss: 1.6517 - accuracy: 0.3478\n",
      "Epoch 00002: val_loss improved from 1.69734 to 1.51946, saving model to /fer2013simple_cnn.02 - 1.52.hdf5\n",
      "898/898 [==============================] - 300s 334ms/step - loss: 1.6517 - accuracy: 0.3478 - val_loss: 1.5195 - val_accuracy: 0.4057\n",
      "Epoch 3/30\n",
      "898/898 [==============================] - ETA: 0s - loss: 1.5868 - accuracy: 0.3752\n",
      "Epoch 00003: val_loss improved from 1.51946 to 1.47991, saving model to /fer2013simple_cnn.03 - 1.48.hdf5\n",
      "898/898 [==============================] - 300s 335ms/step - loss: 1.5868 - accuracy: 0.3752 - val_loss: 1.4799 - val_accuracy: 0.4316\n",
      "Epoch 4/30\n",
      "898/898 [==============================] - ETA: 0s - loss: 1.5377 - accuracy: 0.3966\n",
      "Epoch 00004: val_loss improved from 1.47991 to 1.42941, saving model to /fer2013simple_cnn.04 - 1.43.hdf5\n",
      "898/898 [==============================] - 316s 351ms/step - loss: 1.5377 - accuracy: 0.3966 - val_loss: 1.4294 - val_accuracy: 0.4574\n",
      "Epoch 5/30\n",
      "898/898 [==============================] - ETA: 0s - loss: 1.4962 - accuracy: 0.4192\n",
      "Epoch 00005: val_loss did not improve from 1.42941\n",
      "898/898 [==============================] - 311s 347ms/step - loss: 1.4962 - accuracy: 0.4192 - val_loss: 1.4325 - val_accuracy: 0.4551\n",
      "Epoch 6/30\n",
      "898/898 [==============================] - ETA: 0s - loss: 1.4692 - accuracy: 0.4333\n",
      "Epoch 00006: val_loss improved from 1.42941 to 1.36952, saving model to /fer2013simple_cnn.06 - 1.37.hdf5\n",
      "898/898 [==============================] - 321s 357ms/step - loss: 1.4692 - accuracy: 0.4333 - val_loss: 1.3695 - val_accuracy: 0.4773\n",
      "Epoch 7/30\n",
      "898/898 [==============================] - ETA: 0s - loss: 1.4428 - accuracy: 0.4460\n",
      "Epoch 00007: val_loss improved from 1.36952 to 1.32647, saving model to /fer2013simple_cnn.07 - 1.33.hdf5\n",
      "898/898 [==============================] - 313s 348ms/step - loss: 1.4428 - accuracy: 0.4460 - val_loss: 1.3265 - val_accuracy: 0.4944\n",
      "Epoch 8/30\n",
      "898/898 [==============================] - ETA: 0s - loss: 1.4188 - accuracy: 0.4537\n",
      "Epoch 00008: val_loss improved from 1.32647 to 1.29155, saving model to /fer2013simple_cnn.08 - 1.29.hdf5\n",
      "898/898 [==============================] - 311s 347ms/step - loss: 1.4188 - accuracy: 0.4537 - val_loss: 1.2916 - val_accuracy: 0.5079\n",
      "Epoch 9/30\n",
      "898/898 [==============================] - ETA: 0s - loss: 1.4100 - accuracy: 0.4619\n",
      "Epoch 00009: val_loss improved from 1.29155 to 1.25747, saving model to /fer2013simple_cnn.09 - 1.26.hdf5\n",
      "898/898 [==============================] - 311s 346ms/step - loss: 1.4100 - accuracy: 0.4619 - val_loss: 1.2575 - val_accuracy: 0.5188\n",
      "Epoch 10/30\n",
      "898/898 [==============================] - ETA: 0s - loss: 1.3931 - accuracy: 0.4651\n",
      "Epoch 00010: val_loss improved from 1.25747 to 1.25685, saving model to /fer2013simple_cnn.10 - 1.26.hdf5\n",
      "898/898 [==============================] - 306s 341ms/step - loss: 1.3931 - accuracy: 0.4651 - val_loss: 1.2569 - val_accuracy: 0.5233\n",
      "Epoch 11/30\n",
      "898/898 [==============================] - ETA: 0s - loss: 1.3813 - accuracy: 0.4726\n",
      "Epoch 00011: val_loss did not improve from 1.25685\n",
      "898/898 [==============================] - 305s 339ms/step - loss: 1.3813 - accuracy: 0.4726 - val_loss: 1.2664 - val_accuracy: 0.5180\n",
      "Epoch 12/30\n",
      "898/898 [==============================] - ETA: 0s - loss: 1.3705 - accuracy: 0.4778\n",
      "Epoch 00012: val_loss improved from 1.25685 to 1.25147, saving model to /fer2013simple_cnn.12 - 1.25.hdf5\n",
      "898/898 [==============================] - 307s 342ms/step - loss: 1.3705 - accuracy: 0.4778 - val_loss: 1.2515 - val_accuracy: 0.5114\n",
      "Epoch 13/30\n",
      "898/898 [==============================] - ETA: 0s - loss: 1.3580 - accuracy: 0.4819\n",
      "Epoch 00013: val_loss improved from 1.25147 to 1.22714, saving model to /fer2013simple_cnn.13 - 1.23.hdf5\n",
      "898/898 [==============================] - 325s 362ms/step - loss: 1.3580 - accuracy: 0.4819 - val_loss: 1.2271 - val_accuracy: 0.5343\n",
      "Epoch 14/30\n",
      "898/898 [==============================] - ETA: 0s - loss: 1.3502 - accuracy: 0.4849\n",
      "Epoch 00014: val_loss improved from 1.22714 to 1.21470, saving model to /fer2013simple_cnn.14 - 1.21.hdf5\n",
      "898/898 [==============================] - 309s 345ms/step - loss: 1.3502 - accuracy: 0.4849 - val_loss: 1.2147 - val_accuracy: 0.5364\n",
      "Epoch 15/30\n",
      "898/898 [==============================] - ETA: 0s - loss: 1.3400 - accuracy: 0.4882\n",
      "Epoch 00015: val_loss improved from 1.21470 to 1.20924, saving model to /fer2013simple_cnn.15 - 1.21.hdf5\n",
      "898/898 [==============================] - 320s 357ms/step - loss: 1.3400 - accuracy: 0.4882 - val_loss: 1.2092 - val_accuracy: 0.5450\n",
      "Epoch 16/30\n",
      "898/898 [==============================] - ETA: 0s - loss: 1.3306 - accuracy: 0.4913\n",
      "Epoch 00016: val_loss improved from 1.20924 to 1.20528, saving model to /fer2013simple_cnn.16 - 1.21.hdf5\n",
      "898/898 [==============================] - 310s 345ms/step - loss: 1.3306 - accuracy: 0.4913 - val_loss: 1.2053 - val_accuracy: 0.5400\n",
      "Epoch 17/30\n",
      "898/898 [==============================] - ETA: 0s - loss: 1.3300 - accuracy: 0.4931\n",
      "Epoch 00017: val_loss improved from 1.20528 to 1.20496, saving model to /fer2013simple_cnn.17 - 1.20.hdf5\n",
      "898/898 [==============================] - 310s 345ms/step - loss: 1.3300 - accuracy: 0.4931 - val_loss: 1.2050 - val_accuracy: 0.5418\n",
      "Epoch 18/30\n",
      "898/898 [==============================] - ETA: 0s - loss: 1.3204 - accuracy: 0.4958\n",
      "Epoch 00018: val_loss improved from 1.20496 to 1.19410, saving model to /fer2013simple_cnn.18 - 1.19.hdf5\n",
      "898/898 [==============================] - 309s 344ms/step - loss: 1.3204 - accuracy: 0.4958 - val_loss: 1.1941 - val_accuracy: 0.5508\n",
      "Epoch 19/30\n",
      "898/898 [==============================] - ETA: 0s - loss: 1.3167 - accuracy: 0.4994\n",
      "Epoch 00019: val_loss did not improve from 1.19410\n",
      "898/898 [==============================] - 313s 348ms/step - loss: 1.3167 - accuracy: 0.4994 - val_loss: 1.2575 - val_accuracy: 0.5259\n",
      "Epoch 20/30\n",
      "898/898 [==============================] - ETA: 0s - loss: 1.3094 - accuracy: 0.4988\n",
      "Epoch 00020: val_loss improved from 1.19410 to 1.19075, saving model to /fer2013simple_cnn.20 - 1.19.hdf5\n",
      "898/898 [==============================] - 311s 346ms/step - loss: 1.3094 - accuracy: 0.4988 - val_loss: 1.1907 - val_accuracy: 0.5514\n",
      "Epoch 21/30\n",
      "898/898 [==============================] - ETA: 0s - loss: 1.3084 - accuracy: 0.4996\n",
      "Epoch 00021: val_loss improved from 1.19075 to 1.18147, saving model to /fer2013simple_cnn.21 - 1.18.hdf5\n",
      "898/898 [==============================] - 312s 347ms/step - loss: 1.3084 - accuracy: 0.4996 - val_loss: 1.1815 - val_accuracy: 0.5502\n",
      "Epoch 22/30\n",
      "898/898 [==============================] - ETA: 0s - loss: 1.3040 - accuracy: 0.4985\n",
      "Epoch 00022: val_loss did not improve from 1.18147\n",
      "898/898 [==============================] - 312s 347ms/step - loss: 1.3040 - accuracy: 0.4985 - val_loss: 1.1903 - val_accuracy: 0.5396\n",
      "Epoch 23/30\n",
      "898/898 [==============================] - ETA: 0s - loss: 1.2922 - accuracy: 0.5040\n",
      "Epoch 00023: val_loss did not improve from 1.18147\n",
      "898/898 [==============================] - 312s 348ms/step - loss: 1.2922 - accuracy: 0.5040 - val_loss: 1.2148 - val_accuracy: 0.5410\n",
      "Epoch 24/30\n",
      "898/898 [==============================] - ETA: 0s - loss: 1.2932 - accuracy: 0.5077\n",
      "Epoch 00024: val_loss improved from 1.18147 to 1.16843, saving model to /fer2013simple_cnn.24 - 1.17.hdf5\n",
      "898/898 [==============================] - 312s 347ms/step - loss: 1.2932 - accuracy: 0.5077 - val_loss: 1.1684 - val_accuracy: 0.5489\n",
      "Epoch 25/30\n"
     ]
    },
    {
     "name": "stdout",
     "output_type": "stream",
     "text": [
      "898/898 [==============================] - ETA: 0s - loss: 1.2906 - accuracy: 0.5070\n",
      "Epoch 00025: val_loss did not improve from 1.16843\n",
      "898/898 [==============================] - 310s 345ms/step - loss: 1.2906 - accuracy: 0.5070 - val_loss: 1.1746 - val_accuracy: 0.5478\n",
      "Epoch 26/30\n",
      "898/898 [==============================] - ETA: 0s - loss: 1.2840 - accuracy: 0.5123\n",
      "Epoch 00026: val_loss improved from 1.16843 to 1.14088, saving model to /fer2013simple_cnn.26 - 1.14.hdf5\n",
      "898/898 [==============================] - 310s 345ms/step - loss: 1.2840 - accuracy: 0.5123 - val_loss: 1.1409 - val_accuracy: 0.5660\n",
      "Epoch 27/30\n",
      "898/898 [==============================] - ETA: 0s - loss: 1.2823 - accuracy: 0.5128\n",
      "Epoch 00027: val_loss did not improve from 1.14088\n",
      "898/898 [==============================] - 310s 345ms/step - loss: 1.2823 - accuracy: 0.5128 - val_loss: 1.1411 - val_accuracy: 0.5645\n",
      "Epoch 28/30\n",
      "898/898 [==============================] - ETA: 0s - loss: 1.2779 - accuracy: 0.5114\n",
      "Epoch 00028: val_loss improved from 1.14088 to 1.12558, saving model to /fer2013simple_cnn.28 - 1.13.hdf5\n",
      "898/898 [==============================] - 310s 346ms/step - loss: 1.2779 - accuracy: 0.5114 - val_loss: 1.1256 - val_accuracy: 0.5699\n",
      "Epoch 29/30\n",
      "898/898 [==============================] - ETA: 0s - loss: 1.2760 - accuracy: 0.5142\n",
      "Epoch 00029: val_loss did not improve from 1.12558\n",
      "898/898 [==============================] - 310s 345ms/step - loss: 1.2760 - accuracy: 0.5142 - val_loss: 1.1513 - val_accuracy: 0.5587\n",
      "Epoch 30/30\n",
      "898/898 [==============================] - ETA: 0s - loss: 1.2750 - accuracy: 0.5133\n",
      "Epoch 00030: val_loss did not improve from 1.12558\n",
      "898/898 [==============================] - 310s 345ms/step - loss: 1.2750 - accuracy: 0.5133 - val_loss: 1.1365 - val_accuracy: 0.5626\n"
     ]
    }
   ],
   "source": [
    "dataset = ['fer2013']\n",
    "num_epochs = 30\n",
    "base_path = '/'\n",
    "\n",
    "for dataset_name in dataset:\n",
    "    print('Training dataset : ' , dataset_name)\n",
    "    \n",
    "    log_file_path = dataset_name + '_emotion_training.log'\n",
    "    \n",
    "    csv_logger = CSVLogger(log_file_path , append=False)\n",
    "    early_stop = EarlyStopping('val_loss' , patience= patience)\n",
    "    reduce_lr = ReduceLROnPlateau('val_loss' , factor = 0.1 , patience=int(patience/4) , verbose=1)\n",
    "    \n",
    "    trained_models_path = base_path + dataset_name + 'simple_cnn'\n",
    "    model_names = trained_models_path + '.{epoch:02d} - {val_loss:.2f}.hdf5'\n",
    "    \n",
    "    model_checkpoint = ModelCheckpoint(model_names , 'val_loss' , verbose=1 , save_best_only=True)\n",
    "    \n",
    "    my_callbacks = [model_checkpoint , csv_logger , early_stop , reduce_lr]\n",
    "    \n",
    "    train_faces , train_emotions = train_data\n",
    "    history = model.fit_generator(data_gen.flow(train_faces , train_emotions , batch_size) , epochs = num_epochs , verbose=1 , callbacks=my_callbacks , validation_data=val_data)\n",
    "    "
   ]
  },
  {
   "cell_type": "code",
   "execution_count": 29,
   "metadata": {},
   "outputs": [
    {
     "name": "stdout",
     "output_type": "stream",
     "text": [
      "225/225 [==============================] - 10s 43ms/step - loss: 1.1365 - accuracy: 0.5626\n",
      "Test Loss :  1.1365233659744263\n",
      "Test Accuracy :  56.255221366882324 %\n"
     ]
    }
   ],
   "source": [
    "score = model.evaluate(val_x , val_y , verbose=1)\n",
    "print('Test Loss : ' , score[0])\n",
    "print('Test Accuracy : ' , score[1]*100 , \"%\")"
   ]
  },
  {
   "cell_type": "code",
   "execution_count": 30,
   "metadata": {},
   "outputs": [
    {
     "data": {
      "text/plain": [
       "dict_keys(['loss', 'accuracy', 'val_loss', 'val_accuracy', 'lr'])"
      ]
     },
     "execution_count": 30,
     "metadata": {},
     "output_type": "execute_result"
    }
   ],
   "source": [
    "history_dict = history.history\n",
    "history_dict.keys()"
   ]
  },
  {
   "cell_type": "code",
   "execution_count": 31,
   "metadata": {},
   "outputs": [
    {
     "name": "stdout",
     "output_type": "stream",
     "text": [
      "[0.2851022183895111, 0.3478003442287445, 0.3751785159111023, 0.3966003656387329, 0.41920652985572815, 0.43331360816955566, 0.44602736830711365, 0.45372530817985535, 0.4619109034538269, 0.4650806486606598, 0.4726392328739166, 0.4777944087982178, 0.4819394648075104, 0.48493504524230957, 0.4882092773914337, 0.49127450585365295, 0.4930509626865387, 0.49580270051956177, 0.49935561418533325, 0.49879828095436096, 0.4996342658996582, 0.4984847903251648, 0.5040231347084045, 0.5077153444290161, 0.5069838762283325, 0.5122783780097961, 0.5128008723258972, 0.5114075541496277, 0.5141593217849731, 0.5132536888122559]\n"
     ]
    }
   ],
   "source": [
    "print(history_dict[\"accuracy\"])"
   ]
  },
  {
   "cell_type": "code",
   "execution_count": 32,
   "metadata": {},
   "outputs": [
    {
     "data": {
      "image/png": "[encoded data removed]",
      "text/plain": [
       "<Figure size 432x288 with 1 Axes>"
      ]
     },
     "metadata": {
      "needs_background": "light"
     },
     "output_type": "display_data"
    }
   ],
   "source": [
    "train_loss_values = history_dict['loss']\n",
    "val_loss_values = history_dict['val_loss']\n",
    "\n",
    "epochs = range(1,len(history_dict['accuracy']) + 1)\n",
    "\n",
    "plt.plot(epochs , train_loss_values , 'ro' , label=\"Training Loss\")\n",
    "plt.plot(epochs , val_loss_values , 'g-' , label=\"Validation Loss\")\n",
    "plt.title('Train and Val Loss')\n",
    "plt.xlabel('Epochs')\n",
    "plt.ylabel('Loss')\n",
    "plt.legend()\n",
    "plt.show()"
   ]
  },
  {
   "cell_type": "code",
   "execution_count": 33,
   "metadata": {},
   "outputs": [
    {
     "data": {
      "image/png": "[encoded data removed]",
      "text/plain": [
       "<Figure size 432x288 with 1 Axes>"
      ]
     },
     "metadata": {
      "needs_background": "light"
     },
     "output_type": "display_data"
    }
   ],
   "source": [
    "train_acc = history_dict['accuracy']\n",
    "val_acc = history_dict['val_accuracy']\n",
    "plt.plot(epochs, train_acc, 'ro', label='Training accuracy')\n",
    "plt.plot(epochs, val_acc, 'g-', label='Validation accuracy')\n",
    "plt.title('Train and Val accuracy')\n",
    "plt.xlabel('Epochs')\n",
    "plt.ylabel('Loss')\n",
    "plt.legend()\n",
    "plt.show()"
   ]
  },
  {
   "cell_type": "code",
   "execution_count": 36,
   "metadata": {},
   "outputs": [],
   "source": [
    "model.save_weights(\"model.h5\")"
   ]
  },
  {
   "cell_type": "code",
   "execution_count": 37,
   "metadata": {},
   "outputs": [],
   "source": [
    "model.load_weights(\"model.h5\")"
   ]
  },
  {
   "cell_type": "code",
   "execution_count": 38,
   "metadata": {},
   "outputs": [],
   "source": [
    "from tensorflow.keras.models import model_from_json"
   ]
  },
  {
   "cell_type": "code",
   "execution_count": 39,
   "metadata": {},
   "outputs": [
    {
     "name": "stdout",
     "output_type": "stream",
     "text": [
      "Model saved to disk!!\n"
     ]
    }
   ],
   "source": [
    "model_json = model.to_json()\n",
    "with open(\"model.json\" , \"w\") as json_file:\n",
    "    json_file.write(model_json)\n",
    "    \n",
    "print(\"Model saved to disk!!\")"
   ]
  },
  {
   "cell_type": "code",
   "execution_count": 40,
   "metadata": {},
   "outputs": [],
   "source": [
    "#Load json file\n",
    "json_file = open(\"model.json\" , \"r\")\n",
    "loaded_model_json = json_file.read()\n",
    "\n",
    "json_file.close()\n",
    "\n",
    "model = model_from_json(loaded_model_json)\n",
    "\n",
    "model.load_weights(\"model.h5\")"
   ]
  },
  {
   "cell_type": "markdown",
   "metadata": {},
   "source": [
    "### We can also load model using a function"
   ]
  },
  {
   "cell_type": "code",
   "execution_count": 41,
   "metadata": {},
   "outputs": [],
   "source": [
    "def load_model():\n",
    "    json_file = open(\"model.json\" , \"r\")\n",
    "    loaded_model_json = json_file.read()\n",
    "\n",
    "    json_file.close()\n",
    "\n",
    "    model = model_from_json(loaded_model_json)\n",
    "\n",
    "    model.load_weights(\"model.h5\")\n",
    "    return model"
   ]
  },
  {
   "cell_type": "code",
   "execution_count": null,
   "metadata": {},
   "outputs": [],
   "source": []
  }
 ],
 "metadata": {
  "kernelspec": {
   "display_name": "Python 3",
   "language": "python",
   "name": "python3"
  },
  "language_info": {
   "codemirror_mode": {
    "name": "ipython",
    "version": 3
   },
   "file_extension": ".py",
   "mimetype": "text/x-python",
   "name": "python",
   "nbconvert_exporter": "python",
   "pygments_lexer": "ipython3",
   "version": "3.8.5"
  }
 },
 "nbformat": 4,
 "nbformat_minor": 4
}
